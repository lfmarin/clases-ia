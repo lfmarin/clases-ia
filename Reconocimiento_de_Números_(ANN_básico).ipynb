{
  "nbformat": 4,
  "nbformat_minor": 0,
  "metadata": {
    "colab": {
      "provenance": [],
      "authorship_tag": "ABX9TyPzmy0kaTU70FyYVRl50O20",
      "include_colab_link": true
    },
    "kernelspec": {
      "name": "python3",
      "display_name": "Python 3"
    },
    "language_info": {
      "name": "python"
    }
  },
  "cells": [
    {
      "cell_type": "markdown",
      "metadata": {
        "id": "view-in-github",
        "colab_type": "text"
      },
      "source": [
        "<a href=\"https://colab.research.google.com/github/lfmarin/clases-ia/blob/main/Reconocimiento_de_N%C3%BAmeros_(ANN_b%C3%A1sico).ipynb\" target=\"_parent\"><img src=\"https://colab.research.google.com/assets/colab-badge.svg\" alt=\"Open In Colab\"/></a>"
      ]
    },
    {
      "cell_type": "markdown",
      "source": [
        "# Tópicos Avanzados de Inteligencia Artificial\n",
        "## Dr. Luis Felipe Marín Urías\n",
        "\n",
        "Tutorial básico para cargar imágenes en escala de grises de números escritos a mano y categorizarlas/identificarlas como números por medio de Redes Neuronales Artificiales."
      ],
      "metadata": {
        "id": "gtfJ0GI5DkJK"
      }
    },
    {
      "cell_type": "markdown",
      "source": [
        "lo primero que se debe hacer es cargar las bibliotecas que pertenecen a tensorflow.\n",
        "\n",
        "Mnist es un dataset que que contiene varias imágenes de números escritos a Mano"
      ],
      "metadata": {
        "id": "wgS8xSpXEShO"
      }
    },
    {
      "cell_type": "code",
      "metadata": {
        "id": "wm4BPMY6rvPC"
      },
      "source": [
        "import tensorflow as tf\n",
        "from tensorflow.keras.models import Sequential\n",
        "from tensorflow.keras.layers import Dense, Flatten\n",
        "from tensorflow.keras.datasets import mnist"
      ],
      "execution_count": null,
      "outputs": []
    },
    {
      "cell_type": "markdown",
      "source": [
        "Ahora, hay que cargar el conjunto de datos (dataset) hay que dividir ese conjunto en 2 (mínimo). Una para entrenar la base de datos y otra para probar que tan bien funciona la red neuronal.\n",
        "\n",
        "xtrain = entradas para entrenamiento (imágenes en escala de grises).\n",
        "\n",
        "ytrain = salidas para entrenamiento (número que representa cada imagen).\n",
        "\n",
        "xtest = Entradas para probar la red. (ningún elemento de aquí se encuentra en el entrenamiento.\n",
        "\n",
        "ytest = Salidas para probar."
      ],
      "metadata": {
        "id": "JGwZJl58FFbB"
      }
    },
    {
      "cell_type": "code",
      "metadata": {
        "colab": {
          "base_uri": "https://localhost:8080/"
        },
        "id": "f7yXG4YgsAgZ",
        "outputId": "cd4e93b7-1db4-4c8f-9a30-d20b201e290f"
      },
      "source": [
        "(xtrain, ytrain), (xtest, ytest) = mnist.load_data()"
      ],
      "execution_count": null,
      "outputs": [
        {
          "output_type": "stream",
          "name": "stdout",
          "text": [
            "Downloading data from https://storage.googleapis.com/tensorflow/tf-keras-datasets/mnist.npz\n",
            "11493376/11490434 [==============================] - 0s 0us/step\n",
            "11501568/11490434 [==============================] - 0s 0us/step\n"
          ]
        }
      ]
    },
    {
      "cell_type": "markdown",
      "source": [
        "Incluímos unas bibliotecas para poder visualizar:"
      ],
      "metadata": {
        "id": "dDXBjgymGnIS"
      }
    },
    {
      "cell_type": "code",
      "metadata": {
        "id": "DZ4AtsRZtVuM"
      },
      "source": [
        "import numpy as np\n",
        "import matplotlib.pyplot as plt\n"
      ],
      "execution_count": null,
      "outputs": []
    },
    {
      "cell_type": "markdown",
      "source": [
        "nuestras imágenes para entrenar son 60000 y miden 28x28 pixeles."
      ],
      "metadata": {
        "id": "YbB0fd1IGxI1"
      }
    },
    {
      "cell_type": "code",
      "metadata": {
        "colab": {
          "base_uri": "https://localhost:8080/"
        },
        "id": "AZwoDbrdtfs-",
        "outputId": "940238c2-2b0b-4f9f-cd9f-de714c2318fb"
      },
      "source": [
        "xtrain.shape"
      ],
      "execution_count": null,
      "outputs": [
        {
          "output_type": "execute_result",
          "data": {
            "text/plain": [
              "(60000, 28, 28)"
            ]
          },
          "metadata": {},
          "execution_count": 4
        }
      ]
    },
    {
      "cell_type": "markdown",
      "source": [
        "pyplot para mostrar una de las imágenes. La 9 en este caso que corresponde al número 4 y la 1 que corresponde al 0 (se puede ver como el negativo de una hoja en blanco)"
      ],
      "metadata": {
        "id": "OErUsmjTHBD2"
      }
    },
    {
      "cell_type": "code",
      "metadata": {
        "colab": {
          "base_uri": "https://localhost:8080/",
          "height": 282
        },
        "id": "3zUZ0__Ltlcj",
        "outputId": "4911591f-66b9-45a2-f57f-16467692c8e2"
      },
      "source": [
        "plt.imshow(xtrain[9], cmap=\"gray\")"
      ],
      "execution_count": null,
      "outputs": [
        {
          "output_type": "execute_result",
          "data": {
            "text/plain": [
              "<matplotlib.image.AxesImage at 0x7f2996d724d0>"
            ]
          },
          "metadata": {},
          "execution_count": 8
        },
        {
          "output_type": "display_data",
          "data": {
            "image/png": "[encoded data removed]",
            "text/plain": [
              "<Figure size 432x288 with 1 Axes>"
            ]
          },
          "metadata": {
            "needs_background": "light"
          }
        }
      ]
    },
    {
      "cell_type": "code",
      "metadata": {
        "colab": {
          "base_uri": "https://localhost:8080/",
          "height": 282
        },
        "id": "vOFQ9-gPtys4",
        "outputId": "5969f68c-f9dc-4587-a6da-f1f9ac2c2a17"
      },
      "source": [
        "plt.imshow(xtrain[1], cmap=\"gray_r\")"
      ],
      "execution_count": null,
      "outputs": [
        {
          "output_type": "execute_result",
          "data": {
            "text/plain": [
              "<matplotlib.image.AxesImage at 0x7f2996b58910>"
            ]
          },
          "metadata": {},
          "execution_count": 23
        },
        {
          "output_type": "display_data",
          "data": {
            "image/png": "[encoded data removed]",
            "text/plain": [
              "<Figure size 432x288 with 1 Axes>"
            ]
          },
          "metadata": {
            "needs_background": "light"
          }
        }
      ]
    },
    {
      "cell_type": "markdown",
      "source": [
        "las salidas son un arreglo donde cada posición corresponde al número que queremos obtener.  xtrain[9] => ytrain[9] y xtrain[1] => ytrain[1]"
      ],
      "metadata": {
        "id": "ADd-_gELHg56"
      }
    },
    {
      "cell_type": "code",
      "metadata": {
        "colab": {
          "base_uri": "https://localhost:8080/"
        },
        "id": "LX8LLflQuESr",
        "outputId": "4f4733a8-357c-4a82-d2ef-5b171655a41b"
      },
      "source": [
        "ytrain[:10]"
      ],
      "execution_count": null,
      "outputs": [
        {
          "output_type": "execute_result",
          "data": {
            "text/plain": [
              "array([5, 0, 4, 1, 9, 2, 1, 3, 1, 4], dtype=uint8)"
            ]
          },
          "metadata": {},
          "execution_count": 16
        }
      ]
    },
    {
      "cell_type": "markdown",
      "source": [
        "**note**:\n",
        "📍 es importante aquí saber que cuando tratamos con redes neuronales, normalmente en la capa de salida ponemos una neurona por salida deseada, como aquí son 10 dígitos pondremos 10 neuronas de salida, por lo que tenemos que transformar las salidas en ytrain y ytest.\n",
        "\n",
        "Ejemplo:\n",
        "\n",
        "ytest[1] -> 0  👉 ytest[1] -> [1,0,0,0,0,0,0,0,0,0]\n",
        "\n"
      ],
      "metadata": {
        "id": "VJJrbjW8IIWf"
      }
    },
    {
      "cell_type": "markdown",
      "source": [
        "para realizar eso tenemos una función que nos convierte de un formato a otro:"
      ],
      "metadata": {
        "id": "PL8QKSHsLTAq"
      }
    },
    {
      "cell_type": "code",
      "metadata": {
        "id": "X7gHWD7HukxD"
      },
      "source": [
        "from keras.utils.np_utils import to_categorical"
      ],
      "execution_count": null,
      "outputs": []
    },
    {
      "cell_type": "code",
      "metadata": {
        "id": "ph2CVYvZvJjr"
      },
      "source": [
        "y_cat_train = to_categorical(ytrain,10)\n",
        "y_cat_test = to_categorical(ytest,10)"
      ],
      "execution_count": null,
      "outputs": []
    },
    {
      "cell_type": "markdown",
      "source": [
        "después de convertirlos nos queda en formato de arreglo:"
      ],
      "metadata": {
        "id": "SgtZ1P_4uiM9"
      }
    },
    {
      "cell_type": "code",
      "metadata": {
        "colab": {
          "base_uri": "https://localhost:8080/"
        },
        "id": "ZAn9aqn3voPu",
        "outputId": "2fd9bffc-fd26-43a3-c5f3-e503fef5e748"
      },
      "source": [
        "y_cat_train.shape"
      ],
      "execution_count": null,
      "outputs": [
        {
          "output_type": "execute_result",
          "data": {
            "text/plain": [
              "(60000, 10)"
            ]
          },
          "metadata": {},
          "execution_count": 21
        }
      ]
    },
    {
      "cell_type": "code",
      "metadata": {
        "colab": {
          "base_uri": "https://localhost:8080/"
        },
        "id": "8SWXv5NPv08i",
        "outputId": "86248d7b-aa79-4095-ada4-de142f9ea5f9"
      },
      "source": [
        "y_cat_train[1]"
      ],
      "execution_count": null,
      "outputs": [
        {
          "output_type": "execute_result",
          "data": {
            "text/plain": [
              "array([1., 0., 0., 0., 0., 0., 0., 0., 0., 0.], dtype=float32)"
            ]
          },
          "metadata": {},
          "execution_count": 24
        }
      ]
    },
    {
      "cell_type": "markdown",
      "source": [
        "Finalmente, después de haber preparado los datos, creamos una red neuronal Densa (totalmente conectada) que tenga 28 neuronas de entrada, con una matrix de 28x28 es decir 784 entradas para las 28 neuronas.\n",
        "\n",
        "\n",
        "\n",
        "***nota:***\n",
        "\n",
        "normalmente se pone una neurona por entrada y las entradas entre mas simples mejor, es decir valores de 0 a 1 y si son binarias se simplifica aún mas  la operación."
      ],
      "metadata": {
        "id": "1znzEXs4uyGe"
      }
    },
    {
      "cell_type": "code",
      "metadata": {
        "id": "t-TOn3QSxezC"
      },
      "source": [
        "red = Sequential() #red neuronal de tipo secuencial.\n",
        "\n",
        "red.add(Dense(28, input_shape=(28,28), activation=\"relu\")) # capa de entrada\n",
        "red.add(Flatten()) #aqui se ponen las entradas de matriz a un vector unidimensional\n",
        "red.add(Dense(25, activation=\"relu\")) # capa oculta de 25\n",
        "red.add(Dense(10, activation=\"softmax\")) # capa de salida\n",
        "\n",
        "red.compile(optimizer=\"adam\", loss=\"categorical_crossentropy\", metrics=['accuracy'])"
      ],
      "execution_count": null,
      "outputs": []
    },
    {
      "cell_type": "code",
      "metadata": {
        "colab": {
          "base_uri": "https://localhost:8080/"
        },
        "id": "GXtaRV0q11We",
        "outputId": "55adfc70-d97f-4a4d-d8b8-52e3c81a39c9"
      },
      "source": [
        "red.summary()"
      ],
      "execution_count": null,
      "outputs": [
        {
          "output_type": "stream",
          "name": "stdout",
          "text": [
            "Model: \"sequential_2\"\n",
            "_________________________________________________________________\n",
            " Layer (type)                Output Shape              Param #   \n",
            "=================================================================\n",
            " dense_6 (Dense)             (None, 28, 28)            812       \n",
            "                                                                 \n",
            " flatten_1 (Flatten)         (None, 784)               0         \n",
            "                                                                 \n",
            " dense_7 (Dense)             (None, 25)                19625     \n",
            "                                                                 \n",
            " dense_8 (Dense)             (None, 10)                260       \n",
            "                                                                 \n",
            "=================================================================\n",
            "Total params: 20,697\n",
            "Trainable params: 20,697\n",
            "Non-trainable params: 0\n",
            "_________________________________________________________________\n"
          ]
        }
      ]
    },
    {
      "cell_type": "markdown",
      "source": [
        "Ahora se pone a entrenar la red con el conjunto de entrenamiento con 50 epocas (50 veces):"
      ],
      "metadata": {
        "id": "8rYHTp1nFwST"
      }
    },
    {
      "cell_type": "code",
      "metadata": {
        "colab": {
          "base_uri": "https://localhost:8080/"
        },
        "id": "8XC2Ynn31Bfx",
        "outputId": "4bbe2f23-2915-4193-9857-7b49f742469f"
      },
      "source": [
        "historial = red.fit(x=xtrain, y=y_cat_train, validation_data=(xtest, y_cat_test), epochs=50)"
      ],
      "execution_count": null,
      "outputs": [
        {
          "output_type": "stream",
          "name": "stdout",
          "text": [
            "Epoch 1/50\n",
            "1875/1875 [==============================] - 6s 3ms/step - loss: 1.5559 - accuracy: 0.5957 - val_loss: 0.8271 - val_accuracy: 0.7636\n",
            "Epoch 2/50\n",
            "1875/1875 [==============================] - 5s 3ms/step - loss: 0.6062 - accuracy: 0.8315 - val_loss: 0.4858 - val_accuracy: 0.8768\n",
            "Epoch 3/50\n",
            "1875/1875 [==============================] - 5s 3ms/step - loss: 0.3546 - accuracy: 0.9051 - val_loss: 0.3207 - val_accuracy: 0.9215\n",
            "Epoch 4/50\n",
            "1875/1875 [==============================] - 5s 3ms/step - loss: 0.2652 - accuracy: 0.9276 - val_loss: 0.2680 - val_accuracy: 0.9278\n",
            "Epoch 5/50\n",
            "1875/1875 [==============================] - 5s 3ms/step - loss: 0.2241 - accuracy: 0.9380 - val_loss: 0.2333 - val_accuracy: 0.9335\n",
            "Epoch 6/50\n",
            "1875/1875 [==============================] - 5s 3ms/step - loss: 0.1982 - accuracy: 0.9443 - val_loss: 0.2061 - val_accuracy: 0.9422\n",
            "Epoch 7/50\n",
            "1875/1875 [==============================] - 5s 3ms/step - loss: 0.1813 - accuracy: 0.9474 - val_loss: 0.1992 - val_accuracy: 0.9473\n",
            "Epoch 8/50\n",
            "1875/1875 [==============================] - 5s 3ms/step - loss: 0.1721 - accuracy: 0.9507 - val_loss: 0.1963 - val_accuracy: 0.9461\n",
            "Epoch 9/50\n",
            "1875/1875 [==============================] - 5s 3ms/step - loss: 0.1585 - accuracy: 0.9552 - val_loss: 0.2039 - val_accuracy: 0.9483\n",
            "Epoch 10/50\n",
            "1875/1875 [==============================] - 5s 3ms/step - loss: 0.1497 - accuracy: 0.9565 - val_loss: 0.1941 - val_accuracy: 0.9501\n",
            "Epoch 11/50\n",
            "1875/1875 [==============================] - 5s 3ms/step - loss: 0.1426 - accuracy: 0.9574 - val_loss: 0.1867 - val_accuracy: 0.9452\n",
            "Epoch 12/50\n",
            "1875/1875 [==============================] - 5s 3ms/step - loss: 0.1366 - accuracy: 0.9605 - val_loss: 0.1771 - val_accuracy: 0.9506\n",
            "Epoch 13/50\n",
            "1875/1875 [==============================] - 5s 3ms/step - loss: 0.1321 - accuracy: 0.9618 - val_loss: 0.1693 - val_accuracy: 0.9524\n",
            "Epoch 14/50\n",
            "1875/1875 [==============================] - 5s 3ms/step - loss: 0.1275 - accuracy: 0.9625 - val_loss: 0.1727 - val_accuracy: 0.9525\n",
            "Epoch 15/50\n",
            "1875/1875 [==============================] - 5s 3ms/step - loss: 0.1221 - accuracy: 0.9643 - val_loss: 0.1730 - val_accuracy: 0.9521\n",
            "Epoch 16/50\n",
            "1875/1875 [==============================] - 5s 3ms/step - loss: 0.1210 - accuracy: 0.9647 - val_loss: 0.1891 - val_accuracy: 0.9514\n",
            "Epoch 17/50\n",
            "1875/1875 [==============================] - 5s 3ms/step - loss: 0.1174 - accuracy: 0.9650 - val_loss: 0.1676 - val_accuracy: 0.9553\n",
            "Epoch 18/50\n",
            "1875/1875 [==============================] - 5s 3ms/step - loss: 0.1179 - accuracy: 0.9652 - val_loss: 0.1627 - val_accuracy: 0.9546\n",
            "Epoch 19/50\n",
            "1875/1875 [==============================] - 5s 3ms/step - loss: 0.1172 - accuracy: 0.9655 - val_loss: 0.1809 - val_accuracy: 0.9540\n",
            "Epoch 20/50\n",
            "1875/1875 [==============================] - 5s 3ms/step - loss: 0.1151 - accuracy: 0.9658 - val_loss: 0.1780 - val_accuracy: 0.9533\n",
            "Epoch 21/50\n",
            "1875/1875 [==============================] - 5s 3ms/step - loss: 0.1114 - accuracy: 0.9669 - val_loss: 0.2032 - val_accuracy: 0.9475\n",
            "Epoch 22/50\n",
            "1875/1875 [==============================] - 5s 3ms/step - loss: 0.1101 - accuracy: 0.9671 - val_loss: 0.1707 - val_accuracy: 0.9568\n",
            "Epoch 23/50\n",
            "1875/1875 [==============================] - 5s 3ms/step - loss: 0.1082 - accuracy: 0.9679 - val_loss: 0.1850 - val_accuracy: 0.9545\n",
            "Epoch 24/50\n",
            "1875/1875 [==============================] - 5s 3ms/step - loss: 0.1059 - accuracy: 0.9689 - val_loss: 0.1850 - val_accuracy: 0.9518\n",
            "Epoch 25/50\n",
            "1875/1875 [==============================] - 5s 3ms/step - loss: 0.1074 - accuracy: 0.9686 - val_loss: 0.2010 - val_accuracy: 0.9489\n",
            "Epoch 26/50\n",
            "1875/1875 [==============================] - 5s 3ms/step - loss: 0.1019 - accuracy: 0.9699 - val_loss: 0.2133 - val_accuracy: 0.9480\n",
            "Epoch 27/50\n",
            "1875/1875 [==============================] - 5s 3ms/step - loss: 0.1042 - accuracy: 0.9689 - val_loss: 0.2029 - val_accuracy: 0.9506\n",
            "Epoch 28/50\n",
            "1875/1875 [==============================] - 5s 3ms/step - loss: 0.1039 - accuracy: 0.9684 - val_loss: 0.2058 - val_accuracy: 0.9499\n",
            "Epoch 29/50\n",
            "1875/1875 [==============================] - 5s 3ms/step - loss: 0.1020 - accuracy: 0.9702 - val_loss: 0.1980 - val_accuracy: 0.9536\n",
            "Epoch 30/50\n",
            "1875/1875 [==============================] - 5s 3ms/step - loss: 0.1022 - accuracy: 0.9693 - val_loss: 0.2192 - val_accuracy: 0.9503\n",
            "Epoch 31/50\n",
            "1875/1875 [==============================] - 5s 3ms/step - loss: 0.1015 - accuracy: 0.9699 - val_loss: 0.2174 - val_accuracy: 0.9528\n",
            "Epoch 32/50\n",
            "1875/1875 [==============================] - 5s 3ms/step - loss: 0.0969 - accuracy: 0.9709 - val_loss: 0.1932 - val_accuracy: 0.9553\n",
            "Epoch 33/50\n",
            "1875/1875 [==============================] - 5s 3ms/step - loss: 0.0994 - accuracy: 0.9707 - val_loss: 0.2096 - val_accuracy: 0.9530\n",
            "Epoch 34/50\n",
            "1875/1875 [==============================] - 5s 3ms/step - loss: 0.0949 - accuracy: 0.9713 - val_loss: 0.2242 - val_accuracy: 0.9491\n",
            "Epoch 35/50\n",
            "1875/1875 [==============================] - 5s 3ms/step - loss: 0.0980 - accuracy: 0.9711 - val_loss: 0.2303 - val_accuracy: 0.9498\n",
            "Epoch 36/50\n",
            "1875/1875 [==============================] - 5s 3ms/step - loss: 0.0965 - accuracy: 0.9718 - val_loss: 0.2195 - val_accuracy: 0.9515\n",
            "Epoch 37/50\n",
            "1875/1875 [==============================] - 5s 3ms/step - loss: 0.0965 - accuracy: 0.9714 - val_loss: 0.2078 - val_accuracy: 0.9546\n",
            "Epoch 38/50\n",
            "1875/1875 [==============================] - 5s 3ms/step - loss: 0.0928 - accuracy: 0.9729 - val_loss: 0.2352 - val_accuracy: 0.9545\n",
            "Epoch 39/50\n",
            "1875/1875 [==============================] - 5s 3ms/step - loss: 0.0951 - accuracy: 0.9712 - val_loss: 0.2307 - val_accuracy: 0.9516\n",
            "Epoch 40/50\n",
            "1875/1875 [==============================] - 5s 3ms/step - loss: 0.0947 - accuracy: 0.9731 - val_loss: 0.2174 - val_accuracy: 0.9516\n",
            "Epoch 41/50\n",
            "1875/1875 [==============================] - 5s 3ms/step - loss: 0.0890 - accuracy: 0.9733 - val_loss: 0.2272 - val_accuracy: 0.9537\n",
            "Epoch 42/50\n",
            "1875/1875 [==============================] - 5s 3ms/step - loss: 0.0940 - accuracy: 0.9720 - val_loss: 0.2443 - val_accuracy: 0.9529\n",
            "Epoch 43/50\n",
            "1875/1875 [==============================] - 5s 3ms/step - loss: 0.0891 - accuracy: 0.9737 - val_loss: 0.2276 - val_accuracy: 0.9514\n",
            "Epoch 44/50\n",
            "1875/1875 [==============================] - 5s 3ms/step - loss: 0.0907 - accuracy: 0.9729 - val_loss: 0.2466 - val_accuracy: 0.9512\n",
            "Epoch 45/50\n",
            "1875/1875 [==============================] - 5s 3ms/step - loss: 0.0919 - accuracy: 0.9734 - val_loss: 0.2385 - val_accuracy: 0.9536\n",
            "Epoch 46/50\n",
            "1875/1875 [==============================] - 5s 3ms/step - loss: 0.0893 - accuracy: 0.9741 - val_loss: 0.2333 - val_accuracy: 0.9515\n",
            "Epoch 47/50\n",
            "1875/1875 [==============================] - 5s 3ms/step - loss: 0.0889 - accuracy: 0.9739 - val_loss: 0.2383 - val_accuracy: 0.9502\n",
            "Epoch 48/50\n",
            "1875/1875 [==============================] - 5s 3ms/step - loss: 0.0902 - accuracy: 0.9730 - val_loss: 0.2278 - val_accuracy: 0.9557\n",
            "Epoch 49/50\n",
            "1875/1875 [==============================] - 5s 3ms/step - loss: 0.0857 - accuracy: 0.9744 - val_loss: 0.2507 - val_accuracy: 0.9549\n",
            "Epoch 50/50\n",
            "1875/1875 [==============================] - 5s 3ms/step - loss: 0.0883 - accuracy: 0.9751 - val_loss: 0.2425 - val_accuracy: 0.9548\n"
          ]
        }
      ]
    },
    {
      "cell_type": "markdown",
      "source": [
        "terminó la red neuronal de entrenar 50 epocas y nos muestra el resultado de la siguiente forma:\n",
        "\n",
        "\n",
        "*   **loss: 0.0883** Aquí se refiere al error al clasificar un número correctamente, debe tender a 0.\n",
        "*   **accuracy: 0.9751** Este dato nos dice que tan bien clasifica los números correctamente en este caso **97.51% **de certitud con los números con los que entrenó.\n",
        "*   **val_loss: 0.2425** Este es también un error, pero contra el conjunto de validación, o sea números que nunca ha visto.\n",
        "*   **val_accuracy:** 0.9548 Este es que tan bien clasifica números con los que no entren´.\n",
        "\n",
        "Podemos observar que los números de validación difieren de los números con los que entrenó, es natural que el error incremente, 0.0883 vs 0.2425, y que la certitud disminuya, 97.51% vs 95.51%, al momento de validar con datos con los que el algoritmo no nunca aprendió.\n",
        "\n",
        "\n",
        "\n",
        "\n",
        "\n",
        "\n",
        "\n"
      ],
      "metadata": {
        "id": "10_-SYDKe-lO"
      }
    },
    {
      "cell_type": "markdown",
      "source": [
        "Finalmente, podemos ver la evolución de la certitud y del error de manera gráfica gracias al historial que se guardó al momento del entrenamiento a lo largo de las 50 epocas."
      ],
      "metadata": {
        "id": "TwvmllVsjomb"
      }
    },
    {
      "cell_type": "code",
      "metadata": {
        "colab": {
          "base_uri": "https://localhost:8080/",
          "height": 282
        },
        "id": "gLvcsQ9S30PV",
        "outputId": "7a00d3b3-9584-451f-e457-434b0fba9fb3"
      },
      "source": [
        "import pandas as pd\n",
        "\n",
        "datos = pd.DataFrame(historial.history)\n",
        "#certitud\n",
        "datos.accuracy.plot()\n",
        "datos.val_accuracy.plot()"
      ],
      "execution_count": null,
      "outputs": [
        {
          "output_type": "execute_result",
          "data": {
            "text/plain": [
              "<matplotlib.axes._subplots.AxesSubplot at 0x7f29904cb810>"
            ]
          },
          "metadata": {},
          "execution_count": 36
        },
        {
          "output_type": "display_data",
          "data": {
            "image/png": "[encoded data removed]",
            "text/plain": [
              "<Figure size 432x288 with 1 Axes>"
            ]
          },
          "metadata": {
            "needs_background": "light"
          }
        }
      ]
    },
    {
      "cell_type": "code",
      "metadata": {
        "colab": {
          "base_uri": "https://localhost:8080/",
          "height": 282
        },
        "id": "1cPIZmC74St4",
        "outputId": "db98657d-3a55-4f02-d1cd-2b39325463ac"
      },
      "source": [
        "#error\n",
        "datos.loss.plot()\n",
        "datos.val_loss.plot()"
      ],
      "execution_count": null,
      "outputs": [
        {
          "output_type": "execute_result",
          "data": {
            "text/plain": [
              "<matplotlib.axes._subplots.AxesSubplot at 0x7f29901fc0d0>"
            ]
          },
          "metadata": {},
          "execution_count": 37
        },
        {
          "output_type": "display_data",
          "data": {
            "image/png": "[encoded data removed]",
            "text/plain": [
              "<Figure size 432x288 with 1 Axes>"
            ]
          },
          "metadata": {
            "needs_background": "light"
          }
        }
      ]
    },
    {
      "cell_type": "markdown",
      "source": [
        "En ambas gráficas podemos ver un estancamiento, en el aprendizaje (arriba) con respecto a la validación (línea naranja) a partir de la epoca 10, esto significa que por más que ajustemos al conjunto de entrenamiento y siga mejorando, ya no tendrá mejora sustancial.\n",
        "\n",
        "En la gráfica del error (abajo), podemos ver que no hay una disminución sustancial en la validación a partir de alrededor de la epoca 12, incluso, el error empieza a incrementar a partir de la 20 aproximadamente. El incremento en la validación nos señala un posible sobreentrenamiento en la red."
      ],
      "metadata": {
        "id": "LN1M_LeckbhB"
      }
    },
    {
      "cell_type": "markdown",
      "source": [
        "si hacemos la predicción con el conjunto de validación, podemos ver los resultados individuales."
      ],
      "metadata": {
        "id": "GYaQEI8UoPXX"
      }
    },
    {
      "cell_type": "code",
      "metadata": {
        "id": "gYkHaFvQ4l-p"
      },
      "source": [
        "predicciones = red.predict(xtest)"
      ],
      "execution_count": null,
      "outputs": []
    },
    {
      "cell_type": "markdown",
      "source": [
        "el resultado nos muestra 10 valores de predicción para cada número por  cada imagen, permitiendonos dar un ranking de probabilidad con respecto a la clasificación de cada número. Es decir, la posición con el mayor valor sera el número que la red cree que es el mas probable."
      ],
      "metadata": {
        "id": "oTevrgE3ol7y"
      }
    },
    {
      "cell_type": "code",
      "metadata": {
        "colab": {
          "base_uri": "https://localhost:8080/"
        },
        "id": "4AG5SyEx5K_P",
        "outputId": "acc2e92e-fbca-4ac2-da7a-497a56618cfc"
      },
      "source": [
        "predicciones\n"
      ],
      "execution_count": null,
      "outputs": [
        {
          "output_type": "execute_result",
          "data": {
            "text/plain": [
              "array([[1.08659690e-13, 4.36404312e-17, 2.11847877e-22, ...,\n",
              "        9.99999881e-01, 6.30747558e-23, 1.16267856e-07],\n",
              "       [5.13286084e-15, 2.08299397e-03, 9.96436954e-01, ...,\n",
              "        2.65915096e-05, 6.83325662e-12, 8.08456200e-21],\n",
              "       [1.57735608e-15, 9.99912858e-01, 1.29983304e-27, ...,\n",
              "        1.42093126e-09, 3.04768062e-29, 6.42682009e-19],\n",
              "       ...,\n",
              "       [4.52099346e-15, 6.15283801e-15, 1.10030181e-08, ...,\n",
              "        5.81221106e-13, 2.36397208e-16, 1.11051108e-07],\n",
              "       [8.87607484e-07, 1.88923778e-07, 1.26977195e-09, ...,\n",
              "        6.35692174e-08, 5.40488102e-02, 1.00221129e-07],\n",
              "       [6.53415106e-27, 0.00000000e+00, 1.30793976e-27, ...,\n",
              "        0.00000000e+00, 1.55619969e-35, 0.00000000e+00]], dtype=float32)"
            ]
          },
          "metadata": {},
          "execution_count": 42
        }
      ]
    },
    {
      "cell_type": "markdown",
      "source": [
        "argmax será la función que nos permitirá determinar de cada vector de respuesta, el número con mayor valor"
      ],
      "metadata": {
        "id": "JAKIPwhJpqyq"
      }
    },
    {
      "cell_type": "code",
      "metadata": {
        "colab": {
          "base_uri": "https://localhost:8080/"
        },
        "id": "m8TfK7CE5cc7",
        "outputId": "9ee00f05-e947-4b1e-f39f-abe3eaea10ba"
      },
      "source": [
        "ymess = np.argmax(y_cat_test, axis=1)\n",
        "predmess= np.argmax(predicciones, axis=1)\n"
      ],
      "execution_count": null,
      "outputs": [
        {
          "output_type": "execute_result",
          "data": {
            "text/plain": [
              "array([7, 2, 1, ..., 4, 5, 6])"
            ]
          },
          "metadata": {},
          "execution_count": 44
        }
      ]
    },
    {
      "cell_type": "markdown",
      "source": [
        "finalmente podemos analizar los resultados de la certitud, con lo conocemos una matriz de confusión así como el reporte de clasificación."
      ],
      "metadata": {
        "id": "IAyZ9A3Xp3ey"
      }
    },
    {
      "cell_type": "code",
      "metadata": {
        "colab": {
          "base_uri": "https://localhost:8080/"
        },
        "id": "UutQsi0U5927",
        "outputId": "ba8e7e87-1bf7-492b-c659-3a169fcdc83e"
      },
      "source": [
        "from sklearn.metrics import classification_report, confusion_matrix\n",
        "print(classification_report(ymess, predmess))"
      ],
      "execution_count": null,
      "outputs": [
        {
          "output_type": "stream",
          "name": "stdout",
          "text": [
            "              precision    recall  f1-score   support\n",
            "\n",
            "           0       0.96      0.98      0.97       980\n",
            "           1       0.98      0.98      0.98      1135\n",
            "           2       0.96      0.94      0.95      1032\n",
            "           3       0.95      0.93      0.94      1010\n",
            "           4       0.97      0.95      0.96       982\n",
            "           5       0.95      0.93      0.94       892\n",
            "           6       0.95      0.98      0.97       958\n",
            "           7       0.97      0.96      0.96      1028\n",
            "           8       0.92      0.95      0.93       974\n",
            "           9       0.94      0.94      0.94      1009\n",
            "\n",
            "    accuracy                           0.95     10000\n",
            "   macro avg       0.95      0.95      0.95     10000\n",
            "weighted avg       0.95      0.95      0.95     10000\n",
            "\n"
          ]
        }
      ]
    },
    {
      "cell_type": "code",
      "metadata": {
        "colab": {
          "base_uri": "https://localhost:8080/"
        },
        "id": "E9BTkb0W6QsF",
        "outputId": "9d377fad-eeda-44b7-eaae-e433d1010ca6"
      },
      "source": [
        "result = confusion_matrix(ymess, predmess)\n",
        "print(result)"
      ],
      "execution_count": null,
      "outputs": [
        {
          "output_type": "stream",
          "name": "stdout",
          "text": [
            "[[ 964    1    1    1    3    0    4    0    5    1]\n",
            " [   0 1117    3    1    0    0    3    1   10    0]\n",
            " [  11    2  967   13    1    2   12   13   11    0]\n",
            " [   1    3   12  937    1   31    1    7   12    5]\n",
            " [   3    2    2    0  930    0    9    1    9   26]\n",
            " [   3    4    2   19    1  833   11    2   12    5]\n",
            " [   3    2    3    0    3    6  938    0    3    0]\n",
            " [   0    8    6    3    4    1    0  989    3   14]\n",
            " [  13    0    9    4    4    3    5    4  927    5]\n",
            " [   6    6    1   10    8    5    0    6   21  946]]\n"
          ]
        }
      ]
    },
    {
      "cell_type": "markdown",
      "source": [
        "**nota:**\n",
        "\n",
        "para mas detalle al respecto de como evaluar nuestros clasificadores recomiendo esta página WEB:\n",
        "https://www.evidentlyai.com/classification-metrics/accuracy-precision-recall#:~:text=Accuracy%20shows%20how%20often%20a,objects%20of%20the%20target%20class."
      ],
      "metadata": {
        "id": "XmbX8dEluAO8"
      }
    },
    {
      "cell_type": "markdown",
      "source": [
        "Ahora, haremos lo mismo pero con redes neuronales convolucionales o CNN"
      ],
      "metadata": {
        "id": "N4OIt4v_sKY9"
      }
    },
    {
      "cell_type": "code",
      "metadata": {
        "id": "QBNB5t04K--M"
      },
      "source": [
        "import pandas as pd\n",
        "from sklearn.metrics import classification_report, confusion_matrix"
      ],
      "execution_count": null,
      "outputs": []
    },
    {
      "cell_type": "code",
      "metadata": {
        "id": "taidFxaALGGh"
      },
      "source": [
        "from keras.layers import Conv2D, MaxPool2D"
      ],
      "execution_count": null,
      "outputs": []
    },
    {
      "cell_type": "code",
      "metadata": {
        "id": "IYRlsvTVLRST"
      },
      "source": [
        "xtrain =  xtrain.reshape(60000, 28, 28, 1)\n",
        "xtest =  xtest.reshape(10000, 28, 28, 1)"
      ],
      "execution_count": null,
      "outputs": []
    },
    {
      "cell_type": "code",
      "metadata": {
        "id": "HtUv4JybL_Nj"
      },
      "source": [
        "model = Sequential()\n",
        "#capa de convolución\n",
        "model.add(Conv2D(filters=32, kernel_size=(4,4), input_shape=(28,28,1), activation=\"relu\"))\n",
        "#capa de max pooling\n",
        "model.add(MaxPool2D(pool_size=(2,2)))\n",
        "#traducción para capa densa\n",
        "model.add(Flatten())\n",
        "#ahora si va la capa densa (fully connected)\n",
        "model.add(Dense(128, activation=\"relu\"))\n",
        "model.add(Dense(10, activation=\"softmax\"))\n",
        "\n",
        "model.compile(optimizer=\"rmsprop\", loss=\"categorical_crossentropy\", metrics=['accuracy'])"
      ],
      "execution_count": null,
      "outputs": []
    },
    {
      "cell_type": "code",
      "metadata": {
        "colab": {
          "base_uri": "https://localhost:8080/"
        },
        "id": "CeX3uhQzN2vv",
        "outputId": "78765751-5af3-4b52-e148-735b2d5093fd"
      },
      "source": [
        "hist =model.fit(x=xtrain, y=y_cat_train, validation_data=(xtest, y_cat_test), epochs=2)"
      ],
      "execution_count": null,
      "outputs": [
        {
          "output_type": "stream",
          "name": "stdout",
          "text": [
            "Epoch 1/2\n",
            "1875/1875 [==============================] - 38s 20ms/step - loss: 0.6536 - accuracy: 0.9472 - val_loss: 0.1061 - val_accuracy: 0.9710\n",
            "Epoch 2/2\n",
            "1875/1875 [==============================] - 38s 20ms/step - loss: 0.0784 - accuracy: 0.9804 - val_loss: 0.0865 - val_accuracy: 0.9811\n"
          ]
        }
      ]
    },
    {
      "cell_type": "code",
      "metadata": {
        "colab": {
          "base_uri": "https://localhost:8080/",
          "height": 282
        },
        "id": "R5mleStTO1dy",
        "outputId": "772b978a-6f09-4599-e994-b6868d5c0774"
      },
      "source": [
        "datos = pd.DataFrame(hist.history)\n",
        "\n",
        "datos.accuracy.plot()\n",
        "datos.val_accuracy.plot()"
      ],
      "execution_count": null,
      "outputs": [
        {
          "output_type": "execute_result",
          "data": {
            "text/plain": [
              "<matplotlib.axes._subplots.AxesSubplot at 0x7f6acf0644d0>"
            ]
          },
          "metadata": {},
          "execution_count": 16
        },
        {
          "output_type": "display_data",
          "data": {
            "image/png": "[encoded data removed]",
            "text/plain": [
              "<Figure size 432x288 with 1 Axes>"
            ]
          },
          "metadata": {
            "needs_background": "light"
          }
        }
      ]
    },
    {
      "cell_type": "code",
      "metadata": {
        "colab": {
          "base_uri": "https://localhost:8080/",
          "height": 282
        },
        "id": "G-RTyCNhO8hi",
        "outputId": "5e194996-94bf-40b2-f245-0dcd31c62927"
      },
      "source": [
        "datos.loss.plot()\n",
        "datos.val_loss.plot()"
      ],
      "execution_count": null,
      "outputs": [
        {
          "output_type": "execute_result",
          "data": {
            "text/plain": [
              "<matplotlib.axes._subplots.AxesSubplot at 0x7f6aceafa890>"
            ]
          },
          "metadata": {},
          "execution_count": 17
        },
        {
          "output_type": "display_data",
          "data": {
            "image/png": "[encoded data removed]",
            "text/plain": [
              "<Figure size 432x288 with 1 Axes>"
            ]
          },
          "metadata": {
            "needs_background": "light"
          }
        }
      ]
    },
    {
      "cell_type": "code",
      "metadata": {
        "id": "oBhJ12XePZy6"
      },
      "source": [
        "predicciones = model.predict(xtest)"
      ],
      "execution_count": null,
      "outputs": []
    },
    {
      "cell_type": "code",
      "metadata": {
        "colab": {
          "base_uri": "https://localhost:8080/"
        },
        "id": "i_v464zNPhv3",
        "outputId": "49d80d4b-9eb5-4acf-c385-2f0d1f07f0ee"
      },
      "source": [
        "ymess = np.argmax(y_cat_test, axis=1)\n",
        "predmess= np.argmax(predicciones, axis=1)\n",
        "print(classification_report(ymess, predmess))"
      ],
      "execution_count": null,
      "outputs": [
        {
          "output_type": "stream",
          "name": "stdout",
          "text": [
            "              precision    recall  f1-score   support\n",
            "\n",
            "           0       0.99      0.99      0.99       980\n",
            "           1       0.98      0.99      0.99      1135\n",
            "           2       0.98      0.99      0.98      1032\n",
            "           3       0.98      0.99      0.98      1010\n",
            "           4       0.98      0.99      0.98       982\n",
            "           5       0.97      0.99      0.98       892\n",
            "           6       0.98      0.98      0.98       958\n",
            "           7       0.99      0.97      0.98      1028\n",
            "           8       0.98      0.97      0.98       974\n",
            "           9       0.98      0.97      0.98      1009\n",
            "\n",
            "    accuracy                           0.98     10000\n",
            "   macro avg       0.98      0.98      0.98     10000\n",
            "weighted avg       0.98      0.98      0.98     10000\n",
            "\n"
          ]
        }
      ]
    },
    {
      "cell_type": "code",
      "metadata": {
        "colab": {
          "base_uri": "https://localhost:8080/"
        },
        "id": "Y4joPcmTPi1R",
        "outputId": "433987e1-c5c3-4fb9-d077-542734d35d7f"
      },
      "source": [
        "result = confusion_matrix(ymess, predmess)\n",
        "print(result)"
      ],
      "execution_count": null,
      "outputs": [
        {
          "output_type": "stream",
          "name": "stdout",
          "text": [
            "[[ 969    2    2    0    0    0    4    1    2    0]\n",
            " [   0 1120    4    2    1    2    0    0    6    0]\n",
            " [   0    1 1017    3    1    0    2    7    1    0]\n",
            " [   0    0    1  995    0   11    0    1    1    1]\n",
            " [   0    2    1    0  971    0    1    0    1    6]\n",
            " [   2    0    0    4    0  880    4    0    0    2]\n",
            " [   4    2    0    1    8    6  936    0    1    0]\n",
            " [   0    6    9    4    4    0    0  995    2    8]\n",
            " [   5    2    3    4    2    1    5    2  946    4]\n",
            " [   2    4    1    3    7    7    0    1    2  982]]\n"
          ]
        }
      ]
    },
    {
      "cell_type": "markdown",
      "source": [
        "\n",
        "**Práctica:**\n",
        "\n",
        "intenta mejorar los resultados con una red neuronal nueva.\n",
        "\n",
        "Probar:\n",
        "\n",
        "\n",
        "*   Datos de entrada, ¿debemos hacer un procesamiento previo de la imagen?\n",
        "*   Morfología de la red neuronal: mas/menos neuronas en una capa o más/menos capas ocultas.\n",
        "*   Tiempo de entrenamiento, ¿debemos aumentar o reducir el tiempo?\n",
        "*   Función de activación, ¿Debemos introducir una función diferente?\n",
        "\n",
        "\n",
        "\n",
        "\n"
      ],
      "metadata": {
        "id": "HQ3zaIqYwFg0"
      }
    },
    {
      "cell_type": "code",
      "metadata": {
        "colab": {
          "base_uri": "https://localhost:8080/"
        },
        "id": "kUrb_akSQkn8",
        "outputId": "dc0f092d-621a-4b94-e2fd-72fe103d79c0"
      },
      "source": [
        "xtrain[9]"
      ],
      "execution_count": null,
      "outputs": [
        {
          "output_type": "execute_result",
          "data": {
            "text/plain": [
              "array([0], dtype=uint8)"
            ]
          },
          "metadata": {},
          "execution_count": 25
        }
      ]
    }
  ]
}