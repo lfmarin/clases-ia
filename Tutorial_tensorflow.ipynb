{
  "nbformat": 4,
  "nbformat_minor": 0,
  "metadata": {
    "colab": {
      "name": "Tutorial tensorflow.ipynb",
      "provenance": [],
      "authorship_tag": "ABX9TyNc2+10XxYqKiMnBXpZLhqH",
      "include_colab_link": true
    },
    "kernelspec": {
      "name": "python3",
      "display_name": "Python 3"
    },
    "language_info": {
      "name": "python"
    }
  },
  "cells": [
    {
      "cell_type": "markdown",
      "metadata": {
        "id": "view-in-github",
        "colab_type": "text"
      },
      "source": [
        "<a href=\"https://colab.research.google.com/github/lfmarin/clases-ia/blob/main/Tutorial_tensorflow.ipynb\" target=\"_parent\"><img src=\"https://colab.research.google.com/assets/colab-badge.svg\" alt=\"Open In Colab\"/></a>"
      ]
    },
    {
      "cell_type": "code",
      "metadata": {
        "id": "GxD2GUT48Bbf"
      },
      "source": [
        "import tensorflow as tf\n",
        "from tensorflow.keras.models import Sequential\n",
        "from tensorflow.keras.layers import Dense\n",
        "import matplotlib.pyplot as plt\n",
        "from sklearn.datasets import make_blobs"
      ],
      "execution_count": 1,
      "outputs": []
    },
    {
      "cell_type": "code",
      "metadata": {
        "id": "nDRwZ7WE_c9H"
      },
      "source": [
        "entradas, salidas = make_blobs(centers=2)\n"
      ],
      "execution_count": 2,
      "outputs": []
    },
    {
      "cell_type": "code",
      "metadata": {
        "colab": {
          "base_uri": "https://localhost:8080/"
        },
        "id": "2YOAvyTK_1Wx",
        "outputId": "4a3e7fe3-b088-469b-95e6-6de55787eeee"
      },
      "source": [
        "entradas[:5]"
      ],
      "execution_count": 3,
      "outputs": [
        {
          "output_type": "execute_result",
          "data": {
            "text/plain": [
              "array([[ 5.35379488,  1.49912778],\n",
              "       [ 3.61956416,  1.74355888],\n",
              "       [-5.1761183 , -0.99219031],\n",
              "       [-3.70528458, -0.18002   ],\n",
              "       [-5.28515596,  2.22675026]])"
            ]
          },
          "metadata": {},
          "execution_count": 3
        }
      ]
    },
    {
      "cell_type": "code",
      "metadata": {
        "colab": {
          "base_uri": "https://localhost:8080/"
        },
        "id": "sI3f2OfW__ik",
        "outputId": "ce1daaef-ea9c-4c2f-c75f-d59b9c2f2331"
      },
      "source": [
        "salidas.shape\n",
        "salidas"
      ],
      "execution_count": 4,
      "outputs": [
        {
          "output_type": "execute_result",
          "data": {
            "text/plain": [
              "array([1, 1, 0, 0, 0, 0, 1, 1, 0, 1, 1, 0, 0, 0, 0, 0, 1, 1, 0, 0, 1, 0,\n",
              "       1, 1, 0, 1, 0, 1, 0, 0, 0, 0, 0, 0, 0, 1, 1, 1, 0, 0, 0, 1, 0, 1,\n",
              "       0, 0, 0, 0, 0, 0, 0, 1, 0, 0, 0, 1, 1, 0, 0, 1, 1, 0, 1, 0, 0, 0,\n",
              "       1, 1, 1, 1, 1, 1, 1, 1, 1, 0, 0, 1, 1, 1, 1, 1, 1, 1, 1, 0, 1, 1,\n",
              "       0, 1, 1, 1, 0, 0, 1, 1, 0, 0, 1, 1])"
            ]
          },
          "metadata": {},
          "execution_count": 4
        }
      ]
    },
    {
      "cell_type": "code",
      "metadata": {
        "colab": {
          "base_uri": "https://localhost:8080/",
          "height": 286
        },
        "id": "mRZdBC1VAZX-",
        "outputId": "ea5891c7-822c-4180-9915-b7e7bfc4ff94"
      },
      "source": [
        "plt.scatter(entradas[:70, 0],entradas[:70,1], marker=\"o\", c=salidas[:70],s=25, edgecolors=\"k\")\n"
      ],
      "execution_count": 5,
      "outputs": [
        {
          "output_type": "execute_result",
          "data": {
            "text/plain": [
              "<matplotlib.collections.PathCollection at 0x7f278b67f790>"
            ]
          },
          "metadata": {},
          "execution_count": 5
        },
        {
          "output_type": "display_data",
          "data": {
            "image/png": "[encoded data removed]",
            "text/plain": [
              "<Figure size 432x288 with 1 Axes>"
            ]
          },
          "metadata": {
            "needs_background": "light"
          }
        }
      ]
    },
    {
      "cell_type": "code",
      "metadata": {
        "colab": {
          "base_uri": "https://localhost:8080/",
          "height": 282
        },
        "id": "xUzvdQ_IBSxJ",
        "outputId": "37aba7aa-0e90-4570-fa2b-94d2e006d3a9"
      },
      "source": [
        "plt.scatter(entradas[70:, 0],entradas[70:,1], marker=\"o\", c=salidas[70:],s=25, edgecolors=\"k\")"
      ],
      "execution_count": 6,
      "outputs": [
        {
          "output_type": "execute_result",
          "data": {
            "text/plain": [
              "<matplotlib.collections.PathCollection at 0x7f278b17f9d0>"
            ]
          },
          "metadata": {},
          "execution_count": 6
        },
        {
          "output_type": "display_data",
          "data": {
            "image/png": "[encoded data removed]",
            "text/plain": [
              "<Figure size 432x288 with 1 Axes>"
            ]
          },
          "metadata": {
            "needs_background": "light"
          }
        }
      ]
    },
    {
      "cell_type": "code",
      "metadata": {
        "id": "Tp5xZtwUCgjl"
      },
      "source": [
        "X_train = entradas[:70]\n",
        "y_train = salidas[:70]\n",
        "X_test = entradas[70:]\n",
        "y_test = salidas[70:]"
      ],
      "execution_count": 7,
      "outputs": []
    },
    {
      "cell_type": "code",
      "metadata": {
        "id": "IzCSaKJVDAhQ"
      },
      "source": [
        "modelo = Sequential()\n",
        "\n",
        "modelo.add(Dense(2, input_dim=2, activation=\"sigmoid\"))\n",
        "modelo.add(Dense(2, activation=\"sigmoid\"))\n",
        "modelo.add(Dense(1, activation=\"sigmoid\"))\n",
        "\n",
        "modelo.compile(optimizer=\"adam\", loss=\"mean_squared_error\", metrics=['accuracy'])"
      ],
      "execution_count": 28,
      "outputs": []
    },
    {
      "cell_type": "code",
      "metadata": {
        "colab": {
          "base_uri": "https://localhost:8080/"
        },
        "id": "VEBx4J9mFGi9",
        "outputId": "35501576-ba8d-4879-879b-ecb28006f743"
      },
      "source": [
        "modelo.summary()"
      ],
      "execution_count": 9,
      "outputs": [
        {
          "output_type": "stream",
          "name": "stdout",
          "text": [
            "Model: \"sequential\"\n",
            "_________________________________________________________________\n",
            " Layer (type)                Output Shape              Param #   \n",
            "=================================================================\n",
            " dense (Dense)               (None, 2)                 6         \n",
            "                                                                 \n",
            " dense_1 (Dense)             (None, 2)                 6         \n",
            "                                                                 \n",
            " dense_2 (Dense)             (None, 1)                 3         \n",
            "                                                                 \n",
            "=================================================================\n",
            "Total params: 15\n",
            "Trainable params: 15\n",
            "Non-trainable params: 0\n",
            "_________________________________________________________________\n"
          ]
        }
      ]
    },
    {
      "cell_type": "code",
      "metadata": {
        "colab": {
          "base_uri": "https://localhost:8080/"
        },
        "id": "DpG1aWUiFZHQ",
        "outputId": "9838bc6c-8a6b-4aeb-dc08-aefa7da23ed1"
      },
      "source": [
        "history = modelo.fit(x=X_train, y=y_train, validation_data=(X_test,y_test), epochs=200)"
      ],
      "execution_count": 29,
      "outputs": [
        {
          "output_type": "stream",
          "name": "stdout",
          "text": [
            "Epoch 1/200\n",
            "3/3 [==============================] - 1s 74ms/step - loss: 0.2110 - accuracy: 0.6000 - val_loss: 0.2454 - val_accuracy: 0.2667\n",
            "Epoch 2/200\n",
            "3/3 [==============================] - 0s 14ms/step - loss: 0.2105 - accuracy: 0.6000 - val_loss: 0.2454 - val_accuracy: 0.2667\n",
            "Epoch 3/200\n",
            "3/3 [==============================] - 0s 13ms/step - loss: 0.2101 - accuracy: 0.6000 - val_loss: 0.2452 - val_accuracy: 0.2667\n",
            "Epoch 4/200\n",
            "3/3 [==============================] - 0s 14ms/step - loss: 0.2098 - accuracy: 0.6000 - val_loss: 0.2450 - val_accuracy: 0.2667\n",
            "Epoch 5/200\n",
            "3/3 [==============================] - 0s 13ms/step - loss: 0.2094 - accuracy: 0.6000 - val_loss: 0.2448 - val_accuracy: 0.2667\n",
            "Epoch 6/200\n",
            "3/3 [==============================] - 0s 14ms/step - loss: 0.2090 - accuracy: 0.6000 - val_loss: 0.2448 - val_accuracy: 0.2667\n",
            "Epoch 7/200\n",
            "3/3 [==============================] - 0s 15ms/step - loss: 0.2086 - accuracy: 0.6000 - val_loss: 0.2448 - val_accuracy: 0.2667\n",
            "Epoch 8/200\n",
            "3/3 [==============================] - 0s 15ms/step - loss: 0.2081 - accuracy: 0.6000 - val_loss: 0.2447 - val_accuracy: 0.2667\n",
            "Epoch 9/200\n",
            "3/3 [==============================] - 0s 16ms/step - loss: 0.2077 - accuracy: 0.6000 - val_loss: 0.2448 - val_accuracy: 0.2667\n",
            "Epoch 10/200\n",
            "3/3 [==============================] - 0s 14ms/step - loss: 0.2072 - accuracy: 0.6000 - val_loss: 0.2448 - val_accuracy: 0.2667\n",
            "Epoch 11/200\n",
            "3/3 [==============================] - 0s 13ms/step - loss: 0.2068 - accuracy: 0.6000 - val_loss: 0.2449 - val_accuracy: 0.2667\n",
            "Epoch 12/200\n",
            "3/3 [==============================] - 0s 13ms/step - loss: 0.2064 - accuracy: 0.6000 - val_loss: 0.2448 - val_accuracy: 0.2667\n",
            "Epoch 13/200\n",
            "3/3 [==============================] - 0s 14ms/step - loss: 0.2060 - accuracy: 0.6000 - val_loss: 0.2448 - val_accuracy: 0.2667\n",
            "Epoch 14/200\n",
            "3/3 [==============================] - 0s 15ms/step - loss: 0.2056 - accuracy: 0.6000 - val_loss: 0.2448 - val_accuracy: 0.2667\n",
            "Epoch 15/200\n",
            "3/3 [==============================] - 0s 16ms/step - loss: 0.2051 - accuracy: 0.6000 - val_loss: 0.2447 - val_accuracy: 0.2667\n",
            "Epoch 16/200\n",
            "3/3 [==============================] - 0s 13ms/step - loss: 0.2047 - accuracy: 0.6000 - val_loss: 0.2447 - val_accuracy: 0.2667\n",
            "Epoch 17/200\n",
            "3/3 [==============================] - 0s 14ms/step - loss: 0.2043 - accuracy: 0.6000 - val_loss: 0.2447 - val_accuracy: 0.2667\n",
            "Epoch 18/200\n",
            "3/3 [==============================] - 0s 15ms/step - loss: 0.2039 - accuracy: 0.6000 - val_loss: 0.2446 - val_accuracy: 0.2667\n",
            "Epoch 19/200\n",
            "3/3 [==============================] - 0s 14ms/step - loss: 0.2035 - accuracy: 0.6000 - val_loss: 0.2445 - val_accuracy: 0.2667\n",
            "Epoch 20/200\n",
            "3/3 [==============================] - 0s 15ms/step - loss: 0.2031 - accuracy: 0.6000 - val_loss: 0.2442 - val_accuracy: 0.2667\n",
            "Epoch 21/200\n",
            "3/3 [==============================] - 0s 14ms/step - loss: 0.2027 - accuracy: 0.6000 - val_loss: 0.2441 - val_accuracy: 0.2667\n",
            "Epoch 22/200\n",
            "3/3 [==============================] - 0s 16ms/step - loss: 0.2023 - accuracy: 0.6000 - val_loss: 0.2440 - val_accuracy: 0.2667\n",
            "Epoch 23/200\n",
            "3/3 [==============================] - 0s 16ms/step - loss: 0.2019 - accuracy: 0.6000 - val_loss: 0.2440 - val_accuracy: 0.2667\n",
            "Epoch 24/200\n",
            "3/3 [==============================] - 0s 14ms/step - loss: 0.2015 - accuracy: 0.6000 - val_loss: 0.2440 - val_accuracy: 0.2667\n",
            "Epoch 25/200\n",
            "3/3 [==============================] - 0s 21ms/step - loss: 0.2011 - accuracy: 0.6000 - val_loss: 0.2440 - val_accuracy: 0.2667\n",
            "Epoch 26/200\n",
            "3/3 [==============================] - 0s 22ms/step - loss: 0.2007 - accuracy: 0.6000 - val_loss: 0.2440 - val_accuracy: 0.2667\n",
            "Epoch 27/200\n",
            "3/3 [==============================] - 0s 16ms/step - loss: 0.2003 - accuracy: 0.6000 - val_loss: 0.2440 - val_accuracy: 0.2667\n",
            "Epoch 28/200\n",
            "3/3 [==============================] - 0s 17ms/step - loss: 0.1999 - accuracy: 0.6000 - val_loss: 0.2439 - val_accuracy: 0.2667\n",
            "Epoch 29/200\n",
            "3/3 [==============================] - 0s 21ms/step - loss: 0.1995 - accuracy: 0.6000 - val_loss: 0.2439 - val_accuracy: 0.2667\n",
            "Epoch 30/200\n",
            "3/3 [==============================] - 0s 21ms/step - loss: 0.1991 - accuracy: 0.6000 - val_loss: 0.2437 - val_accuracy: 0.2667\n",
            "Epoch 31/200\n",
            "3/3 [==============================] - 0s 18ms/step - loss: 0.1987 - accuracy: 0.6000 - val_loss: 0.2437 - val_accuracy: 0.2667\n",
            "Epoch 32/200\n",
            "3/3 [==============================] - 0s 22ms/step - loss: 0.1983 - accuracy: 0.6000 - val_loss: 0.2435 - val_accuracy: 0.2667\n",
            "Epoch 33/200\n",
            "3/3 [==============================] - 0s 20ms/step - loss: 0.1979 - accuracy: 0.6000 - val_loss: 0.2433 - val_accuracy: 0.2667\n",
            "Epoch 34/200\n",
            "3/3 [==============================] - 0s 17ms/step - loss: 0.1976 - accuracy: 0.6000 - val_loss: 0.2430 - val_accuracy: 0.2667\n",
            "Epoch 35/200\n",
            "3/3 [==============================] - 0s 18ms/step - loss: 0.1972 - accuracy: 0.6000 - val_loss: 0.2427 - val_accuracy: 0.2667\n",
            "Epoch 36/200\n",
            "3/3 [==============================] - 0s 15ms/step - loss: 0.1969 - accuracy: 0.6000 - val_loss: 0.2425 - val_accuracy: 0.2667\n",
            "Epoch 37/200\n",
            "3/3 [==============================] - 0s 17ms/step - loss: 0.1965 - accuracy: 0.6000 - val_loss: 0.2423 - val_accuracy: 0.2667\n",
            "Epoch 38/200\n",
            "3/3 [==============================] - 0s 20ms/step - loss: 0.1962 - accuracy: 0.6000 - val_loss: 0.2421 - val_accuracy: 0.2667\n",
            "Epoch 39/200\n",
            "3/3 [==============================] - 0s 14ms/step - loss: 0.1958 - accuracy: 0.6000 - val_loss: 0.2418 - val_accuracy: 0.2667\n",
            "Epoch 40/200\n",
            "3/3 [==============================] - 0s 15ms/step - loss: 0.1954 - accuracy: 0.6000 - val_loss: 0.2416 - val_accuracy: 0.2667\n",
            "Epoch 41/200\n",
            "3/3 [==============================] - 0s 16ms/step - loss: 0.1951 - accuracy: 0.6000 - val_loss: 0.2413 - val_accuracy: 0.2667\n",
            "Epoch 42/200\n",
            "3/3 [==============================] - 0s 25ms/step - loss: 0.1947 - accuracy: 0.6000 - val_loss: 0.2411 - val_accuracy: 0.2667\n",
            "Epoch 43/200\n",
            "3/3 [==============================] - 0s 15ms/step - loss: 0.1943 - accuracy: 0.6000 - val_loss: 0.2408 - val_accuracy: 0.2667\n",
            "Epoch 44/200\n",
            "3/3 [==============================] - 0s 17ms/step - loss: 0.1940 - accuracy: 0.6000 - val_loss: 0.2405 - val_accuracy: 0.2667\n",
            "Epoch 45/200\n",
            "3/3 [==============================] - 0s 14ms/step - loss: 0.1937 - accuracy: 0.6000 - val_loss: 0.2402 - val_accuracy: 0.2667\n",
            "Epoch 46/200\n",
            "3/3 [==============================] - 0s 18ms/step - loss: 0.1933 - accuracy: 0.6000 - val_loss: 0.2398 - val_accuracy: 0.2667\n",
            "Epoch 47/200\n",
            "3/3 [==============================] - 0s 17ms/step - loss: 0.1930 - accuracy: 0.6000 - val_loss: 0.2395 - val_accuracy: 0.2667\n",
            "Epoch 48/200\n",
            "3/3 [==============================] - 0s 16ms/step - loss: 0.1926 - accuracy: 0.6000 - val_loss: 0.2392 - val_accuracy: 0.2667\n",
            "Epoch 49/200\n",
            "3/3 [==============================] - 0s 18ms/step - loss: 0.1923 - accuracy: 0.6000 - val_loss: 0.2389 - val_accuracy: 0.2667\n",
            "Epoch 50/200\n",
            "3/3 [==============================] - 0s 17ms/step - loss: 0.1919 - accuracy: 0.6000 - val_loss: 0.2386 - val_accuracy: 0.2667\n",
            "Epoch 51/200\n",
            "3/3 [==============================] - 0s 16ms/step - loss: 0.1916 - accuracy: 0.6000 - val_loss: 0.2383 - val_accuracy: 0.2667\n",
            "Epoch 52/200\n",
            "3/3 [==============================] - 0s 16ms/step - loss: 0.1912 - accuracy: 0.6000 - val_loss: 0.2379 - val_accuracy: 0.2667\n",
            "Epoch 53/200\n",
            "3/3 [==============================] - 0s 16ms/step - loss: 0.1909 - accuracy: 0.6000 - val_loss: 0.2377 - val_accuracy: 0.2667\n",
            "Epoch 54/200\n",
            "3/3 [==============================] - 0s 20ms/step - loss: 0.1905 - accuracy: 0.6000 - val_loss: 0.2375 - val_accuracy: 0.2667\n",
            "Epoch 55/200\n",
            "3/3 [==============================] - 0s 22ms/step - loss: 0.1902 - accuracy: 0.6000 - val_loss: 0.2373 - val_accuracy: 0.2667\n",
            "Epoch 56/200\n",
            "3/3 [==============================] - 0s 18ms/step - loss: 0.1898 - accuracy: 0.6000 - val_loss: 0.2370 - val_accuracy: 0.2667\n",
            "Epoch 57/200\n",
            "3/3 [==============================] - 0s 18ms/step - loss: 0.1895 - accuracy: 0.6000 - val_loss: 0.2368 - val_accuracy: 0.2667\n",
            "Epoch 58/200\n",
            "3/3 [==============================] - 0s 16ms/step - loss: 0.1891 - accuracy: 0.6000 - val_loss: 0.2364 - val_accuracy: 0.2667\n",
            "Epoch 59/200\n",
            "3/3 [==============================] - 0s 16ms/step - loss: 0.1888 - accuracy: 0.6000 - val_loss: 0.2361 - val_accuracy: 0.2667\n",
            "Epoch 60/200\n",
            "3/3 [==============================] - 0s 14ms/step - loss: 0.1884 - accuracy: 0.6000 - val_loss: 0.2359 - val_accuracy: 0.2667\n",
            "Epoch 61/200\n",
            "3/3 [==============================] - 0s 19ms/step - loss: 0.1881 - accuracy: 0.6000 - val_loss: 0.2357 - val_accuracy: 0.2667\n",
            "Epoch 62/200\n",
            "3/3 [==============================] - 0s 16ms/step - loss: 0.1877 - accuracy: 0.6000 - val_loss: 0.2354 - val_accuracy: 0.2667\n",
            "Epoch 63/200\n",
            "3/3 [==============================] - 0s 17ms/step - loss: 0.1873 - accuracy: 0.6000 - val_loss: 0.2353 - val_accuracy: 0.2667\n",
            "Epoch 64/200\n",
            "3/3 [==============================] - 0s 18ms/step - loss: 0.1870 - accuracy: 0.6000 - val_loss: 0.2351 - val_accuracy: 0.2667\n",
            "Epoch 65/200\n",
            "3/3 [==============================] - 0s 20ms/step - loss: 0.1866 - accuracy: 0.6000 - val_loss: 0.2350 - val_accuracy: 0.2667\n",
            "Epoch 66/200\n",
            "3/3 [==============================] - 0s 18ms/step - loss: 0.1862 - accuracy: 0.6000 - val_loss: 0.2348 - val_accuracy: 0.2667\n",
            "Epoch 67/200\n",
            "3/3 [==============================] - 0s 23ms/step - loss: 0.1859 - accuracy: 0.6000 - val_loss: 0.2346 - val_accuracy: 0.2667\n",
            "Epoch 68/200\n",
            "3/3 [==============================] - 0s 19ms/step - loss: 0.1855 - accuracy: 0.6000 - val_loss: 0.2344 - val_accuracy: 0.2667\n",
            "Epoch 69/200\n",
            "3/3 [==============================] - 0s 16ms/step - loss: 0.1852 - accuracy: 0.6000 - val_loss: 0.2341 - val_accuracy: 0.2667\n",
            "Epoch 70/200\n",
            "3/3 [==============================] - 0s 20ms/step - loss: 0.1849 - accuracy: 0.6000 - val_loss: 0.2338 - val_accuracy: 0.2667\n",
            "Epoch 71/200\n",
            "3/3 [==============================] - 0s 16ms/step - loss: 0.1845 - accuracy: 0.6000 - val_loss: 0.2334 - val_accuracy: 0.2667\n",
            "Epoch 72/200\n",
            "3/3 [==============================] - 0s 15ms/step - loss: 0.1842 - accuracy: 0.6000 - val_loss: 0.2331 - val_accuracy: 0.2667\n",
            "Epoch 73/200\n",
            "3/3 [==============================] - 0s 15ms/step - loss: 0.1838 - accuracy: 0.6000 - val_loss: 0.2329 - val_accuracy: 0.2667\n",
            "Epoch 74/200\n",
            "3/3 [==============================] - 0s 16ms/step - loss: 0.1835 - accuracy: 0.6000 - val_loss: 0.2326 - val_accuracy: 0.2667\n",
            "Epoch 75/200\n",
            "3/3 [==============================] - 0s 20ms/step - loss: 0.1831 - accuracy: 0.6000 - val_loss: 0.2323 - val_accuracy: 0.2667\n",
            "Epoch 76/200\n",
            "3/3 [==============================] - 0s 18ms/step - loss: 0.1828 - accuracy: 0.6000 - val_loss: 0.2321 - val_accuracy: 0.2667\n",
            "Epoch 77/200\n",
            "3/3 [==============================] - 0s 20ms/step - loss: 0.1824 - accuracy: 0.6000 - val_loss: 0.2318 - val_accuracy: 0.2667\n",
            "Epoch 78/200\n",
            "3/3 [==============================] - 0s 18ms/step - loss: 0.1821 - accuracy: 0.6000 - val_loss: 0.2317 - val_accuracy: 0.2667\n",
            "Epoch 79/200\n",
            "3/3 [==============================] - 0s 20ms/step - loss: 0.1818 - accuracy: 0.6000 - val_loss: 0.2315 - val_accuracy: 0.2667\n",
            "Epoch 80/200\n",
            "3/3 [==============================] - 0s 15ms/step - loss: 0.1814 - accuracy: 0.6000 - val_loss: 0.2311 - val_accuracy: 0.2667\n",
            "Epoch 81/200\n",
            "3/3 [==============================] - 0s 17ms/step - loss: 0.1811 - accuracy: 0.6000 - val_loss: 0.2308 - val_accuracy: 0.2667\n",
            "Epoch 82/200\n",
            "3/3 [==============================] - 0s 14ms/step - loss: 0.1807 - accuracy: 0.6000 - val_loss: 0.2304 - val_accuracy: 0.2667\n",
            "Epoch 83/200\n",
            "3/3 [==============================] - 0s 19ms/step - loss: 0.1804 - accuracy: 0.6000 - val_loss: 0.2301 - val_accuracy: 0.2667\n",
            "Epoch 84/200\n",
            "3/3 [==============================] - 0s 14ms/step - loss: 0.1801 - accuracy: 0.6000 - val_loss: 0.2299 - val_accuracy: 0.2667\n",
            "Epoch 85/200\n",
            "3/3 [==============================] - 0s 15ms/step - loss: 0.1797 - accuracy: 0.6000 - val_loss: 0.2296 - val_accuracy: 0.2667\n",
            "Epoch 86/200\n",
            "3/3 [==============================] - 0s 19ms/step - loss: 0.1794 - accuracy: 0.6000 - val_loss: 0.2292 - val_accuracy: 0.2667\n",
            "Epoch 87/200\n",
            "3/3 [==============================] - 0s 28ms/step - loss: 0.1791 - accuracy: 0.6000 - val_loss: 0.2289 - val_accuracy: 0.2667\n",
            "Epoch 88/200\n",
            "3/3 [==============================] - 0s 16ms/step - loss: 0.1787 - accuracy: 0.6000 - val_loss: 0.2285 - val_accuracy: 0.2667\n",
            "Epoch 89/200\n",
            "3/3 [==============================] - 0s 17ms/step - loss: 0.1784 - accuracy: 0.6000 - val_loss: 0.2281 - val_accuracy: 0.2667\n",
            "Epoch 90/200\n",
            "3/3 [==============================] - 0s 26ms/step - loss: 0.1781 - accuracy: 0.6000 - val_loss: 0.2277 - val_accuracy: 0.2667\n",
            "Epoch 91/200\n",
            "3/3 [==============================] - 0s 16ms/step - loss: 0.1778 - accuracy: 0.6000 - val_loss: 0.2274 - val_accuracy: 0.2667\n",
            "Epoch 92/200\n",
            "3/3 [==============================] - 0s 16ms/step - loss: 0.1774 - accuracy: 0.6000 - val_loss: 0.2271 - val_accuracy: 0.2667\n",
            "Epoch 93/200\n",
            "3/3 [==============================] - 0s 17ms/step - loss: 0.1771 - accuracy: 0.6000 - val_loss: 0.2268 - val_accuracy: 0.2667\n",
            "Epoch 94/200\n",
            "3/3 [==============================] - 0s 19ms/step - loss: 0.1768 - accuracy: 0.6000 - val_loss: 0.2265 - val_accuracy: 0.2667\n",
            "Epoch 95/200\n",
            "3/3 [==============================] - 0s 18ms/step - loss: 0.1764 - accuracy: 0.6000 - val_loss: 0.2262 - val_accuracy: 0.2667\n",
            "Epoch 96/200\n",
            "3/3 [==============================] - 0s 18ms/step - loss: 0.1761 - accuracy: 0.6000 - val_loss: 0.2260 - val_accuracy: 0.2667\n",
            "Epoch 97/200\n",
            "3/3 [==============================] - 0s 17ms/step - loss: 0.1758 - accuracy: 0.6000 - val_loss: 0.2258 - val_accuracy: 0.2667\n",
            "Epoch 98/200\n",
            "3/3 [==============================] - 0s 21ms/step - loss: 0.1754 - accuracy: 0.6000 - val_loss: 0.2256 - val_accuracy: 0.2667\n",
            "Epoch 99/200\n",
            "3/3 [==============================] - 0s 19ms/step - loss: 0.1751 - accuracy: 0.6000 - val_loss: 0.2253 - val_accuracy: 0.2667\n",
            "Epoch 100/200\n",
            "3/3 [==============================] - 0s 16ms/step - loss: 0.1748 - accuracy: 0.6000 - val_loss: 0.2250 - val_accuracy: 0.2667\n",
            "Epoch 101/200\n",
            "3/3 [==============================] - 0s 25ms/step - loss: 0.1744 - accuracy: 0.6000 - val_loss: 0.2248 - val_accuracy: 0.2667\n",
            "Epoch 102/200\n",
            "3/3 [==============================] - 0s 15ms/step - loss: 0.1741 - accuracy: 0.6000 - val_loss: 0.2246 - val_accuracy: 0.2667\n",
            "Epoch 103/200\n",
            "3/3 [==============================] - 0s 17ms/step - loss: 0.1738 - accuracy: 0.6000 - val_loss: 0.2244 - val_accuracy: 0.2667\n",
            "Epoch 104/200\n",
            "3/3 [==============================] - 0s 18ms/step - loss: 0.1734 - accuracy: 0.6000 - val_loss: 0.2242 - val_accuracy: 0.2667\n",
            "Epoch 105/200\n",
            "3/3 [==============================] - 0s 17ms/step - loss: 0.1731 - accuracy: 0.6000 - val_loss: 0.2241 - val_accuracy: 0.2667\n",
            "Epoch 106/200\n",
            "3/3 [==============================] - 0s 24ms/step - loss: 0.1728 - accuracy: 0.6000 - val_loss: 0.2239 - val_accuracy: 0.2667\n",
            "Epoch 107/200\n",
            "3/3 [==============================] - 0s 16ms/step - loss: 0.1725 - accuracy: 0.6000 - val_loss: 0.2237 - val_accuracy: 0.2667\n",
            "Epoch 108/200\n",
            "3/3 [==============================] - 0s 17ms/step - loss: 0.1721 - accuracy: 0.6000 - val_loss: 0.2234 - val_accuracy: 0.2667\n",
            "Epoch 109/200\n",
            "3/3 [==============================] - 0s 16ms/step - loss: 0.1718 - accuracy: 0.6000 - val_loss: 0.2230 - val_accuracy: 0.2667\n",
            "Epoch 110/200\n",
            "3/3 [==============================] - 0s 17ms/step - loss: 0.1715 - accuracy: 0.6000 - val_loss: 0.2227 - val_accuracy: 0.2667\n",
            "Epoch 111/200\n",
            "3/3 [==============================] - 0s 16ms/step - loss: 0.1712 - accuracy: 0.6000 - val_loss: 0.2224 - val_accuracy: 0.2667\n",
            "Epoch 112/200\n",
            "3/3 [==============================] - 0s 24ms/step - loss: 0.1709 - accuracy: 0.6000 - val_loss: 0.2220 - val_accuracy: 0.2667\n",
            "Epoch 113/200\n",
            "3/3 [==============================] - 0s 17ms/step - loss: 0.1705 - accuracy: 0.6000 - val_loss: 0.2217 - val_accuracy: 0.2667\n",
            "Epoch 114/200\n",
            "3/3 [==============================] - 0s 19ms/step - loss: 0.1702 - accuracy: 0.6000 - val_loss: 0.2214 - val_accuracy: 0.2667\n",
            "Epoch 115/200\n",
            "3/3 [==============================] - 0s 19ms/step - loss: 0.1699 - accuracy: 0.6000 - val_loss: 0.2211 - val_accuracy: 0.2667\n",
            "Epoch 116/200\n",
            "3/3 [==============================] - 0s 18ms/step - loss: 0.1696 - accuracy: 0.6000 - val_loss: 0.2208 - val_accuracy: 0.2667\n",
            "Epoch 117/200\n",
            "3/3 [==============================] - 0s 17ms/step - loss: 0.1693 - accuracy: 0.6000 - val_loss: 0.2204 - val_accuracy: 0.2667\n",
            "Epoch 118/200\n",
            "3/3 [==============================] - 0s 18ms/step - loss: 0.1690 - accuracy: 0.6000 - val_loss: 0.2202 - val_accuracy: 0.2667\n",
            "Epoch 119/200\n",
            "3/3 [==============================] - 0s 27ms/step - loss: 0.1686 - accuracy: 0.6000 - val_loss: 0.2199 - val_accuracy: 0.2667\n",
            "Epoch 120/200\n",
            "3/3 [==============================] - 0s 27ms/step - loss: 0.1683 - accuracy: 0.6000 - val_loss: 0.2197 - val_accuracy: 0.2667\n",
            "Epoch 121/200\n",
            "3/3 [==============================] - 0s 14ms/step - loss: 0.1680 - accuracy: 0.6000 - val_loss: 0.2196 - val_accuracy: 0.2667\n",
            "Epoch 122/200\n",
            "3/3 [==============================] - 0s 19ms/step - loss: 0.1677 - accuracy: 0.6000 - val_loss: 0.2194 - val_accuracy: 0.2667\n",
            "Epoch 123/200\n",
            "3/3 [==============================] - 0s 17ms/step - loss: 0.1674 - accuracy: 0.6000 - val_loss: 0.2191 - val_accuracy: 0.2667\n",
            "Epoch 124/200\n",
            "3/3 [==============================] - 0s 17ms/step - loss: 0.1671 - accuracy: 0.6000 - val_loss: 0.2190 - val_accuracy: 0.2667\n",
            "Epoch 125/200\n",
            "3/3 [==============================] - 0s 17ms/step - loss: 0.1668 - accuracy: 0.6000 - val_loss: 0.2187 - val_accuracy: 0.2667\n",
            "Epoch 126/200\n",
            "3/3 [==============================] - 0s 18ms/step - loss: 0.1664 - accuracy: 0.6000 - val_loss: 0.2184 - val_accuracy: 0.2667\n",
            "Epoch 127/200\n",
            "3/3 [==============================] - 0s 16ms/step - loss: 0.1661 - accuracy: 0.6000 - val_loss: 0.2182 - val_accuracy: 0.2667\n",
            "Epoch 128/200\n",
            "3/3 [==============================] - 0s 17ms/step - loss: 0.1658 - accuracy: 0.6000 - val_loss: 0.2179 - val_accuracy: 0.2667\n",
            "Epoch 129/200\n",
            "3/3 [==============================] - 0s 16ms/step - loss: 0.1655 - accuracy: 0.6000 - val_loss: 0.2176 - val_accuracy: 0.2667\n",
            "Epoch 130/200\n",
            "3/3 [==============================] - 0s 16ms/step - loss: 0.1652 - accuracy: 0.6000 - val_loss: 0.2174 - val_accuracy: 0.2667\n",
            "Epoch 131/200\n",
            "3/3 [==============================] - 0s 18ms/step - loss: 0.1649 - accuracy: 0.6000 - val_loss: 0.2170 - val_accuracy: 0.2667\n",
            "Epoch 132/200\n",
            "3/3 [==============================] - 0s 21ms/step - loss: 0.1646 - accuracy: 0.6000 - val_loss: 0.2168 - val_accuracy: 0.2667\n",
            "Epoch 133/200\n",
            "3/3 [==============================] - 0s 23ms/step - loss: 0.1643 - accuracy: 0.6000 - val_loss: 0.2165 - val_accuracy: 0.2667\n",
            "Epoch 134/200\n",
            "3/3 [==============================] - 0s 16ms/step - loss: 0.1640 - accuracy: 0.6000 - val_loss: 0.2162 - val_accuracy: 0.2667\n",
            "Epoch 135/200\n",
            "3/3 [==============================] - 0s 17ms/step - loss: 0.1637 - accuracy: 0.6000 - val_loss: 0.2160 - val_accuracy: 0.2667\n",
            "Epoch 136/200\n",
            "3/3 [==============================] - 0s 15ms/step - loss: 0.1634 - accuracy: 0.6000 - val_loss: 0.2157 - val_accuracy: 0.2667\n",
            "Epoch 137/200\n",
            "3/3 [==============================] - 0s 16ms/step - loss: 0.1631 - accuracy: 0.6000 - val_loss: 0.2155 - val_accuracy: 0.2667\n",
            "Epoch 138/200\n",
            "3/3 [==============================] - 0s 16ms/step - loss: 0.1628 - accuracy: 0.6000 - val_loss: 0.2153 - val_accuracy: 0.2667\n",
            "Epoch 139/200\n",
            "3/3 [==============================] - 0s 24ms/step - loss: 0.1625 - accuracy: 0.6000 - val_loss: 0.2150 - val_accuracy: 0.2667\n",
            "Epoch 140/200\n",
            "3/3 [==============================] - 0s 18ms/step - loss: 0.1622 - accuracy: 0.6000 - val_loss: 0.2148 - val_accuracy: 0.2667\n",
            "Epoch 141/200\n",
            "3/3 [==============================] - 0s 18ms/step - loss: 0.1619 - accuracy: 0.6000 - val_loss: 0.2145 - val_accuracy: 0.2667\n",
            "Epoch 142/200\n",
            "3/3 [==============================] - 0s 18ms/step - loss: 0.1615 - accuracy: 0.6000 - val_loss: 0.2141 - val_accuracy: 0.2667\n",
            "Epoch 143/200\n",
            "3/3 [==============================] - 0s 18ms/step - loss: 0.1612 - accuracy: 0.6000 - val_loss: 0.2137 - val_accuracy: 0.2667\n",
            "Epoch 144/200\n",
            "3/3 [==============================] - 0s 18ms/step - loss: 0.1609 - accuracy: 0.6000 - val_loss: 0.2134 - val_accuracy: 0.2667\n",
            "Epoch 145/200\n",
            "3/3 [==============================] - 0s 17ms/step - loss: 0.1606 - accuracy: 0.6000 - val_loss: 0.2131 - val_accuracy: 0.2667\n",
            "Epoch 146/200\n",
            "3/3 [==============================] - 0s 29ms/step - loss: 0.1603 - accuracy: 0.6000 - val_loss: 0.2129 - val_accuracy: 0.2667\n",
            "Epoch 147/200\n",
            "3/3 [==============================] - 0s 15ms/step - loss: 0.1601 - accuracy: 0.6000 - val_loss: 0.2127 - val_accuracy: 0.2667\n",
            "Epoch 148/200\n",
            "3/3 [==============================] - 0s 19ms/step - loss: 0.1598 - accuracy: 0.6000 - val_loss: 0.2123 - val_accuracy: 0.2667\n",
            "Epoch 149/200\n",
            "3/3 [==============================] - 0s 17ms/step - loss: 0.1594 - accuracy: 0.6000 - val_loss: 0.2120 - val_accuracy: 0.2667\n",
            "Epoch 150/200\n",
            "3/3 [==============================] - 0s 18ms/step - loss: 0.1591 - accuracy: 0.6000 - val_loss: 0.2116 - val_accuracy: 0.2667\n",
            "Epoch 151/200\n",
            "3/3 [==============================] - 0s 24ms/step - loss: 0.1588 - accuracy: 0.6000 - val_loss: 0.2112 - val_accuracy: 0.2667\n",
            "Epoch 152/200\n",
            "3/3 [==============================] - 0s 16ms/step - loss: 0.1586 - accuracy: 0.6000 - val_loss: 0.2106 - val_accuracy: 0.2667\n",
            "Epoch 153/200\n",
            "3/3 [==============================] - 0s 18ms/step - loss: 0.1582 - accuracy: 0.6000 - val_loss: 0.2101 - val_accuracy: 0.2667\n",
            "Epoch 154/200\n",
            "3/3 [==============================] - 0s 18ms/step - loss: 0.1579 - accuracy: 0.6000 - val_loss: 0.2097 - val_accuracy: 0.2667\n",
            "Epoch 155/200\n",
            "3/3 [==============================] - 0s 16ms/step - loss: 0.1576 - accuracy: 0.6286 - val_loss: 0.2092 - val_accuracy: 0.5000\n",
            "Epoch 156/200\n",
            "3/3 [==============================] - 0s 19ms/step - loss: 0.1573 - accuracy: 0.7714 - val_loss: 0.2086 - val_accuracy: 0.6667\n",
            "Epoch 157/200\n",
            "3/3 [==============================] - 0s 17ms/step - loss: 0.1570 - accuracy: 0.8143 - val_loss: 0.2080 - val_accuracy: 0.7333\n",
            "Epoch 158/200\n",
            "3/3 [==============================] - 0s 19ms/step - loss: 0.1567 - accuracy: 0.9143 - val_loss: 0.2075 - val_accuracy: 0.8333\n",
            "Epoch 159/200\n",
            "3/3 [==============================] - 0s 19ms/step - loss: 0.1564 - accuracy: 0.9143 - val_loss: 0.2070 - val_accuracy: 0.8333\n",
            "Epoch 160/200\n",
            "3/3 [==============================] - 0s 20ms/step - loss: 0.1561 - accuracy: 0.9429 - val_loss: 0.2065 - val_accuracy: 0.8333\n",
            "Epoch 161/200\n",
            "3/3 [==============================] - 0s 19ms/step - loss: 0.1558 - accuracy: 0.9714 - val_loss: 0.2061 - val_accuracy: 0.9000\n",
            "Epoch 162/200\n",
            "3/3 [==============================] - 0s 20ms/step - loss: 0.1554 - accuracy: 0.9714 - val_loss: 0.2057 - val_accuracy: 0.9000\n",
            "Epoch 163/200\n",
            "3/3 [==============================] - 0s 19ms/step - loss: 0.1551 - accuracy: 0.9714 - val_loss: 0.2053 - val_accuracy: 0.9000\n",
            "Epoch 164/200\n",
            "3/3 [==============================] - 0s 20ms/step - loss: 0.1548 - accuracy: 0.9714 - val_loss: 0.2050 - val_accuracy: 0.9000\n",
            "Epoch 165/200\n",
            "3/3 [==============================] - 0s 20ms/step - loss: 0.1545 - accuracy: 0.9857 - val_loss: 0.2047 - val_accuracy: 0.9333\n",
            "Epoch 166/200\n",
            "3/3 [==============================] - 0s 17ms/step - loss: 0.1542 - accuracy: 0.9857 - val_loss: 0.2043 - val_accuracy: 0.9667\n",
            "Epoch 167/200\n",
            "3/3 [==============================] - 0s 21ms/step - loss: 0.1539 - accuracy: 0.9857 - val_loss: 0.2038 - val_accuracy: 0.9667\n",
            "Epoch 168/200\n",
            "3/3 [==============================] - 0s 16ms/step - loss: 0.1536 - accuracy: 0.9857 - val_loss: 0.2033 - val_accuracy: 0.9667\n",
            "Epoch 169/200\n",
            "3/3 [==============================] - 0s 17ms/step - loss: 0.1533 - accuracy: 1.0000 - val_loss: 0.2028 - val_accuracy: 0.9667\n",
            "Epoch 170/200\n",
            "3/3 [==============================] - 0s 19ms/step - loss: 0.1530 - accuracy: 1.0000 - val_loss: 0.2023 - val_accuracy: 0.9667\n",
            "Epoch 171/200\n",
            "3/3 [==============================] - 0s 19ms/step - loss: 0.1527 - accuracy: 1.0000 - val_loss: 0.2018 - val_accuracy: 0.9667\n",
            "Epoch 172/200\n",
            "3/3 [==============================] - 0s 20ms/step - loss: 0.1524 - accuracy: 1.0000 - val_loss: 0.2014 - val_accuracy: 0.9667\n",
            "Epoch 173/200\n",
            "3/3 [==============================] - 0s 19ms/step - loss: 0.1521 - accuracy: 1.0000 - val_loss: 0.2010 - val_accuracy: 0.9667\n",
            "Epoch 174/200\n",
            "3/3 [==============================] - 0s 16ms/step - loss: 0.1518 - accuracy: 1.0000 - val_loss: 0.2005 - val_accuracy: 0.9667\n",
            "Epoch 175/200\n",
            "3/3 [==============================] - 0s 24ms/step - loss: 0.1514 - accuracy: 1.0000 - val_loss: 0.2001 - val_accuracy: 0.9667\n",
            "Epoch 176/200\n",
            "3/3 [==============================] - 0s 17ms/step - loss: 0.1511 - accuracy: 1.0000 - val_loss: 0.1998 - val_accuracy: 1.0000\n",
            "Epoch 177/200\n",
            "3/3 [==============================] - 0s 20ms/step - loss: 0.1508 - accuracy: 1.0000 - val_loss: 0.1995 - val_accuracy: 1.0000\n",
            "Epoch 178/200\n",
            "3/3 [==============================] - 0s 22ms/step - loss: 0.1505 - accuracy: 1.0000 - val_loss: 0.1991 - val_accuracy: 1.0000\n",
            "Epoch 179/200\n",
            "3/3 [==============================] - 0s 17ms/step - loss: 0.1502 - accuracy: 1.0000 - val_loss: 0.1987 - val_accuracy: 1.0000\n",
            "Epoch 180/200\n",
            "3/3 [==============================] - 0s 17ms/step - loss: 0.1499 - accuracy: 1.0000 - val_loss: 0.1982 - val_accuracy: 1.0000\n",
            "Epoch 181/200\n",
            "3/3 [==============================] - 0s 19ms/step - loss: 0.1496 - accuracy: 1.0000 - val_loss: 0.1978 - val_accuracy: 1.0000\n",
            "Epoch 182/200\n",
            "3/3 [==============================] - 0s 19ms/step - loss: 0.1493 - accuracy: 1.0000 - val_loss: 0.1974 - val_accuracy: 1.0000\n",
            "Epoch 183/200\n",
            "3/3 [==============================] - 0s 16ms/step - loss: 0.1490 - accuracy: 1.0000 - val_loss: 0.1969 - val_accuracy: 1.0000\n",
            "Epoch 184/200\n",
            "3/3 [==============================] - 0s 15ms/step - loss: 0.1487 - accuracy: 1.0000 - val_loss: 0.1965 - val_accuracy: 1.0000\n",
            "Epoch 185/200\n",
            "3/3 [==============================] - 0s 19ms/step - loss: 0.1484 - accuracy: 1.0000 - val_loss: 0.1962 - val_accuracy: 1.0000\n",
            "Epoch 186/200\n",
            "3/3 [==============================] - 0s 20ms/step - loss: 0.1481 - accuracy: 1.0000 - val_loss: 0.1960 - val_accuracy: 1.0000\n",
            "Epoch 187/200\n",
            "3/3 [==============================] - 0s 19ms/step - loss: 0.1478 - accuracy: 1.0000 - val_loss: 0.1958 - val_accuracy: 1.0000\n",
            "Epoch 188/200\n",
            "3/3 [==============================] - 0s 16ms/step - loss: 0.1475 - accuracy: 1.0000 - val_loss: 0.1955 - val_accuracy: 1.0000\n",
            "Epoch 189/200\n",
            "3/3 [==============================] - 0s 17ms/step - loss: 0.1472 - accuracy: 1.0000 - val_loss: 0.1951 - val_accuracy: 1.0000\n",
            "Epoch 190/200\n",
            "3/3 [==============================] - 0s 15ms/step - loss: 0.1469 - accuracy: 1.0000 - val_loss: 0.1947 - val_accuracy: 1.0000\n",
            "Epoch 191/200\n",
            "3/3 [==============================] - 0s 14ms/step - loss: 0.1466 - accuracy: 1.0000 - val_loss: 0.1943 - val_accuracy: 1.0000\n",
            "Epoch 192/200\n",
            "3/3 [==============================] - 0s 14ms/step - loss: 0.1463 - accuracy: 1.0000 - val_loss: 0.1939 - val_accuracy: 1.0000\n",
            "Epoch 193/200\n",
            "3/3 [==============================] - 0s 16ms/step - loss: 0.1460 - accuracy: 1.0000 - val_loss: 0.1934 - val_accuracy: 1.0000\n",
            "Epoch 194/200\n",
            "3/3 [==============================] - 0s 13ms/step - loss: 0.1456 - accuracy: 1.0000 - val_loss: 0.1929 - val_accuracy: 1.0000\n",
            "Epoch 195/200\n",
            "3/3 [==============================] - 0s 15ms/step - loss: 0.1453 - accuracy: 1.0000 - val_loss: 0.1924 - val_accuracy: 1.0000\n",
            "Epoch 196/200\n",
            "3/3 [==============================] - 0s 14ms/step - loss: 0.1450 - accuracy: 1.0000 - val_loss: 0.1918 - val_accuracy: 1.0000\n",
            "Epoch 197/200\n",
            "3/3 [==============================] - 0s 13ms/step - loss: 0.1447 - accuracy: 1.0000 - val_loss: 0.1914 - val_accuracy: 1.0000\n",
            "Epoch 198/200\n",
            "3/3 [==============================] - 0s 18ms/step - loss: 0.1444 - accuracy: 1.0000 - val_loss: 0.1909 - val_accuracy: 1.0000\n",
            "Epoch 199/200\n",
            "3/3 [==============================] - 0s 16ms/step - loss: 0.1441 - accuracy: 1.0000 - val_loss: 0.1904 - val_accuracy: 1.0000\n",
            "Epoch 200/200\n",
            "3/3 [==============================] - 0s 15ms/step - loss: 0.1437 - accuracy: 1.0000 - val_loss: 0.1899 - val_accuracy: 1.0000\n"
          ]
        }
      ]
    },
    {
      "cell_type": "code",
      "metadata": {
        "colab": {
          "base_uri": "https://localhost:8080/",
          "height": 282
        },
        "id": "P36xJE0bF4PC",
        "outputId": "19c0175c-70e5-4b02-bc81-4c28b42ad499"
      },
      "source": [
        "import pandas as pd\n",
        "\n",
        "datos = pd.DataFrame(history.history)\n",
        "datos.accuracy.plot()\n",
        "datos.val_accuracy.plot()"
      ],
      "execution_count": 30,
      "outputs": [
        {
          "output_type": "execute_result",
          "data": {
            "text/plain": [
              "<matplotlib.axes._subplots.AxesSubplot at 0x7f2783ed3c10>"
            ]
          },
          "metadata": {},
          "execution_count": 30
        },
        {
          "output_type": "display_data",
          "data": {
            "image/png": "[encoded data removed]",
            "text/plain": [
              "<Figure size 432x288 with 1 Axes>"
            ]
          },
          "metadata": {
            "needs_background": "light"
          }
        }
      ]
    },
    {
      "cell_type": "code",
      "metadata": {
        "colab": {
          "base_uri": "https://localhost:8080/",
          "height": 282
        },
        "id": "OVMX9DqsGY69",
        "outputId": "89bb20b8-bcc0-4477-e11b-b1fae19499ae"
      },
      "source": [
        "datos.loss.plot()\n",
        "datos.val_loss.plot()"
      ],
      "execution_count": 31,
      "outputs": [
        {
          "output_type": "execute_result",
          "data": {
            "text/plain": [
              "<matplotlib.axes._subplots.AxesSubplot at 0x7f2783e9ded0>"
            ]
          },
          "metadata": {},
          "execution_count": 31
        },
        {
          "output_type": "display_data",
          "data": {
            "image/png": "[encoded data removed]",
            "text/plain": [
              "<Figure size 432x288 with 1 Axes>"
            ]
          },
          "metadata": {
            "needs_background": "light"
          }
        }
      ]
    },
    {
      "cell_type": "code",
      "metadata": {
        "colab": {
          "base_uri": "https://localhost:8080/"
        },
        "id": "kQ-28l-jIRj-",
        "outputId": "09f8f541-09f3-4d09-ae48-95d109b6fb1d"
      },
      "source": [
        "import numpy as np\n",
        "resultados=modelo.predict(np.array([X_test[5],]))\n",
        "#resultados[10]\n",
        "#X_test[10]\n",
        "y_test"
      ],
      "execution_count": 22,
      "outputs": [
        {
          "output_type": "execute_result",
          "data": {
            "text/plain": [
              "array([1, 1, 1, 1, 1, 0, 0, 1, 1, 1, 1, 1, 1, 1, 1, 0, 1, 1, 0, 1, 1, 1,\n",
              "       0, 0, 1, 1, 0, 0, 1, 1])"
            ]
          },
          "metadata": {},
          "execution_count": 22
        }
      ]
    },
    {
      "cell_type": "code",
      "metadata": {
        "colab": {
          "base_uri": "https://localhost:8080/"
        },
        "id": "wApu643iVK33",
        "outputId": "4f57753a-9ae5-41e4-cd03-be59dc239215"
      },
      "source": [
        "resultados"
      ],
      "execution_count": 23,
      "outputs": [
        {
          "output_type": "execute_result",
          "data": {
            "text/plain": [
              "array([[0.29936844]], dtype=float32)"
            ]
          },
          "metadata": {},
          "execution_count": 23
        }
      ]
    }
  ]
}